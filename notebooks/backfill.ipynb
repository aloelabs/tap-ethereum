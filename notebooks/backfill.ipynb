{
 "cells": [
  {
   "cell_type": "code",
   "execution_count": 14,
   "metadata": {},
   "outputs": [],
   "source": [
    "from dotenv import load_dotenv\n",
    "\n",
    "load_dotenv()  # take environment variables from .env.\n",
    "\n",
    "from etherscan import Etherscan\n",
    "import json\n",
    "import os\n",
    "from web3.auto import w3"
   ]
  },
  {
   "cell_type": "code",
   "execution_count": 12,
   "metadata": {},
   "outputs": [],
   "source": [
    "abi_json = Etherscan(api_key=os.environ.get('ETHERSCAN_API_KEY')).get_contract_abi(address=\"0x33cB657E7fd57F1f2d5f392FB78D5FA80806d1B4\")\n",
    "abi = json.loads(abi_json)"
   ]
  },
  {
   "cell_type": "code",
   "execution_count": 16,
   "metadata": {},
   "outputs": [],
   "source": [
    "contract = w3.eth.contract(address=\"0x33cB657E7fd57F1f2d5f392FB78D5FA80806d1B4\", abi=abi)"
   ]
  },
  {
   "cell_type": "code",
   "execution_count": 22,
   "metadata": {},
   "outputs": [],
   "source": [
    "start_block = 14164514\n",
    "end_block = start_block + 10"
   ]
  },
  {
   "cell_type": "code",
   "execution_count": 23,
   "metadata": {},
   "outputs": [
    {
     "name": "stdout",
     "output_type": "stream",
     "text": [
      "CPU times: user 101 ms, sys: 13.5 ms, total: 114 ms\n",
      "Wall time: 11.2 s\n"
     ]
    }
   ],
   "source": [
    "%%time\n",
    "\n",
    "results = {}\n",
    "for current_block in range(start_block, end_block + 1):\n",
    "    results[current_block] = contract.functions.getInventory().call(block_identifier=current_block)"
   ]
  },
  {
   "cell_type": "code",
   "execution_count": 24,
   "metadata": {},
   "outputs": [
    {
     "data": {
      "text/plain": [
       "{14164514: [0, 0],\n",
       " 14164515: [0, 0],\n",
       " 14164516: [0, 0],\n",
       " 14164517: [0, 0],\n",
       " 14164518: [0, 0],\n",
       " 14164519: [0, 0],\n",
       " 14164520: [0, 0],\n",
       " 14164521: [0, 0],\n",
       " 14164522: [0, 0],\n",
       " 14164523: [0, 0],\n",
       " 14164524: [0, 0]}"
      ]
     },
     "execution_count": 24,
     "metadata": {},
     "output_type": "execute_result"
    }
   ],
   "source": [
    "results"
   ]
  },
  {
   "cell_type": "code",
   "execution_count": null,
   "metadata": {},
   "outputs": [],
   "source": []
  }
 ],
 "metadata": {
  "kernelspec": {
   "display_name": "Python 3 (ipykernel)",
   "language": "python",
   "name": "python3"
  },
  "language_info": {
   "codemirror_mode": {
    "name": "ipython",
    "version": 3
   },
   "file_extension": ".py",
   "mimetype": "text/x-python",
   "name": "python",
   "nbconvert_exporter": "python",
   "pygments_lexer": "ipython3",
   "version": "3.9.12"
  }
 },
 "nbformat": 4,
 "nbformat_minor": 4
}
